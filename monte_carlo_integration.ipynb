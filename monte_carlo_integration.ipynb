{
  "nbformat": 4,
  "nbformat_minor": 0,
  "metadata": {
    "colab": {
      "provenance": [],
      "authorship_tag": "ABX9TyPRgO/V/bK/v+2qe2PjQci8",
      "include_colab_link": true
    },
    "kernelspec": {
      "name": "python3",
      "display_name": "Python 3"
    },
    "language_info": {
      "name": "python"
    }
  },
  "cells": [
    {
      "cell_type": "markdown",
      "metadata": {
        "id": "view-in-github",
        "colab_type": "text"
      },
      "source": [
        "<a href=\"https://colab.research.google.com/github/bkestelman/montecarlo/blob/master/monte_carlo_integration.ipynb\" target=\"_parent\"><img src=\"https://colab.research.google.com/assets/colab-badge.svg\" alt=\"Open In Colab\"/></a>"
      ]
    },
    {
      "cell_type": "code",
      "execution_count": 1,
      "metadata": {
        "id": "Kai3Z9wWmJHT"
      },
      "outputs": [],
      "source": [
        "import numpy as np\n",
        "import matplotlib.pyplot as plt"
      ]
    },
    {
      "cell_type": "code",
      "source": [
        "### Estimation of area under quarter circle in first quadrant"
      ],
      "metadata": {
        "id": "BKUFLEKkmkBy"
      },
      "execution_count": 2,
      "outputs": []
    },
    {
      "cell_type": "code",
      "source": [
        "### Method 1 - Indicator Function\n",
        "\n",
        "def indicator_in_circle(point):\n",
        "    return point[0]*point[0] + point[1]*point[1] < 1\n",
        "\n",
        "def random_point_first_quadrant():\n",
        "    return np.random.uniform(0, 1, size=2)"
      ],
      "metadata": {
        "id": "CjByY84HmT7H"
      },
      "execution_count": 3,
      "outputs": []
    },
    {
      "cell_type": "code",
      "source": [
        "N = 100\n",
        "points_in_circle = 0\n",
        "\n",
        "for i in range(N):\n",
        "    point = random_point_first_quadrant()\n",
        "    points_in_circle += indicator_in_circle(point)\n",
        "\n",
        "area = points_in_circle / N\n",
        "area # expected ~ pi / 4"
      ],
      "metadata": {
        "colab": {
          "base_uri": "https://localhost:8080/"
        },
        "id": "5lci3U3InXXK",
        "outputId": "e2e714bd-2deb-4d10-dc3c-00305fc21914"
      },
      "execution_count": 4,
      "outputs": [
        {
          "output_type": "execute_result",
          "data": {
            "text/plain": [
              "0.78"
            ]
          },
          "metadata": {},
          "execution_count": 4
        }
      ]
    },
    {
      "cell_type": "code",
      "source": [
        "np.pi / 4"
      ],
      "metadata": {
        "colab": {
          "base_uri": "https://localhost:8080/"
        },
        "id": "q1ra37RConWY",
        "outputId": "8f1d12f0-ea6b-42c5-c8fc-3a7751153b9b"
      },
      "execution_count": 5,
      "outputs": [
        {
          "output_type": "execute_result",
          "data": {
            "text/plain": [
              "0.7853981633974483"
            ]
          },
          "metadata": {},
          "execution_count": 5
        }
      ]
    },
    {
      "cell_type": "code",
      "source": [
        "### Method 2 - Sampling x and f(x)\n",
        "\n",
        "def f(x):\n",
        "    return np.sqrt(1 - x * x)"
      ],
      "metadata": {
        "id": "yq8InGI2orFl"
      },
      "execution_count": 6,
      "outputs": []
    },
    {
      "cell_type": "code",
      "source": [
        "N = 100\n",
        "sum_f = 0\n",
        "\n",
        "for i in range(N):\n",
        "    x = np.random.uniform(0, 1)\n",
        "    sum_f += f(x)\n",
        "\n",
        "area = sum_f / N\n",
        "area"
      ],
      "metadata": {
        "colab": {
          "base_uri": "https://localhost:8080/"
        },
        "id": "7LbdaD7Mq8-P",
        "outputId": "704caa47-a675-4ee8-f697-94e2ff140a34"
      },
      "execution_count": 7,
      "outputs": [
        {
          "output_type": "execute_result",
          "data": {
            "text/plain": [
              "0.7819605694625313"
            ]
          },
          "metadata": {},
          "execution_count": 7
        }
      ]
    },
    {
      "cell_type": "code",
      "source": [
        "### Comparison of convergence\n",
        "\n",
        "N = 100\n",
        "sum_indicator = 0\n",
        "sum_f = 0\n",
        "target = np.pi / 4\n",
        "errors_indicator = []\n",
        "errors_f = []\n",
        "\n",
        "for i in range(1, N+1):\n",
        "    sum_indicator += indicator_in_circle(random_point_first_quadrant())\n",
        "    sum_f += f(np.random.uniform(0, 1))\n",
        "    area_indicator = sum_indicator / i\n",
        "    area_f = sum_f / i\n",
        "    errors_indicator.append(np.abs(target - area_indicator))\n",
        "    errors_f.append(np.abs(target - area_f))\n",
        "\n",
        "plt.plot(errors_indicator, label='Indicator')\n",
        "plt.plot(errors_f, label='f(x)')\n",
        "plt.legend()"
      ],
      "metadata": {
        "colab": {
          "base_uri": "https://localhost:8080/",
          "height": 283
        },
        "id": "x0ipXNBkrIgL",
        "outputId": "54b3aeff-ab64-4707-f13b-b774fd9f8a45"
      },
      "execution_count": 10,
      "outputs": [
        {
          "output_type": "execute_result",
          "data": {
            "text/plain": [
              "<matplotlib.legend.Legend at 0x7f06b34c21d0>"
            ]
          },
          "metadata": {},
          "execution_count": 10
        },
        {
          "output_type": "display_data",
          "data": {
            "text/plain": [
              "<Figure size 432x288 with 1 Axes>"
            ],
            "image/png": "[encoded data removed]"
          },
          "metadata": {
            "needs_background": "light"
          }
        }
      ]
    },
    {
      "cell_type": "code",
      "source": [],
      "metadata": {
        "id": "T6oubShYFmAF"
      },
      "execution_count": 8,
      "outputs": []
    }
  ]
}